{
  "nbformat": 4,
  "nbformat_minor": 0,
  "metadata": {
    "colab": {
      "provenance": [],
      "authorship_tag": "ABX9TyMpc2oY46/bniGjiNMxrVK7",
      "include_colab_link": true
    },
    "kernelspec": {
      "name": "python3",
      "display_name": "Python 3"
    },
    "language_info": {
      "name": "python"
    }
  },
  "cells": [
    {
      "cell_type": "markdown",
      "metadata": {
        "id": "view-in-github",
        "colab_type": "text"
      },
      "source": [
        "<a href=\"https://colab.research.google.com/github/isaacspagnol/webscraping/blob/main/webscrap.ipynb\" target=\"_parent\"><img src=\"https://colab.research.google.com/assets/colab-badge.svg\" alt=\"Open In Colab\"/></a>"
      ]
    },
    {
      "cell_type": "code",
      "execution_count": null,
      "metadata": {
        "colab": {
          "base_uri": "https://localhost:8080/"
        },
        "id": "RXpnQESMs5ko",
        "outputId": "5e5ea08c-8fd8-4d71-f16a-3194fd550b08"
      },
      "outputs": [
        {
          "output_type": "stream",
          "name": "stdout",
          "text": [
            "Dados exportados para posts.csv\n"
          ]
        }
      ],
      "source": [
        "from traitlets.traitlets import link\n",
        "import requests\n",
        "from bs4 import BeautifulSoup\n",
        "import csv\n",
        "\n",
        "# 1. Fazer a solicitação HTTP para a página principal do seu blog\n",
        "url = \"https://www.example.com/\"\n",
        "response = requests.get(url)\n",
        "\n",
        "soup = BeautifulSoup(response.text, \"html.parser\")\n",
        "\n",
        "div_news = soup.find('div', class_='news')\n",
        "\n",
        "# Verificar se a div foi encontrada\n",
        "if div_news:\n",
        "    # Encontrar todos os elementos <a> dentro da div \"news\"\n",
        "    links = div_news.find_all('a')\n",
        "\n",
        "    # Extrair os URLs dos links e armazená-los em uma lista\n",
        "    link_urls = [link['href'] for link in links]\n",
        "\n",
        "    # print(link_urls) #array de posts\n",
        "else:\n",
        "    print(\"A div com a classe 'news' não foi encontrada no HTML.\")\n",
        "\n",
        "post_urls = [] #array de links de posts\n",
        "\n",
        "# Loop for para iterar sobre os links e construir os URLs completos\n",
        "for link_url in link_urls:\n",
        "    post_url = url + link_url\n",
        "    post_urls.append(post_url)\n",
        "\n",
        "post_contents = []\n",
        "\n",
        "# Itere sobre os URLs e obtenha o conteúdo de cada post\n",
        "for post_url in post_urls:\n",
        "    response = requests.get(post_url)\n",
        "    post_data = BeautifulSoup(response.text, \"html.parser\")\n",
        "\n",
        "    content_text = post_data.find(\"div\", class_=\"content_text\")\n",
        "\n",
        "    if content_text:\n",
        "        # Encontre o título dentro da tag <h1>\n",
        "        title_tag = content_text.find(\"h1\")\n",
        "\n",
        "        if title_tag:\n",
        "            title = title_tag.text\n",
        "        else:\n",
        "            title = \"Título não encontrado\"\n",
        "\n",
        "        # Remova o título do conteúdo\n",
        "        if title_tag:\n",
        "            title_tag.extract()\n",
        "\n",
        "        post_contents.append({\"Post Title\": title, \"Content\": content_text.text})\n",
        "    else:\n",
        "        post_contents.append({\"Post Title\": \"Título não encontrado\", \"Content\": \"Conteúdo não encontrado\"})\n",
        "\n",
        "# Agora que você tem o título e o conteúdo de todas as postagens, você pode exportá-los para um arquivo CSV\n",
        "with open(\"posts.csv\", \"w\", newline=\"\", encoding=\"utf-8\") as csv_file:\n",
        "    fieldnames = [\"Post Title\", \"Content\"]\n",
        "    writer = csv.DictWriter(csv_file, fieldnames=fieldnames)\n",
        "\n",
        "    # Escreva o cabeçalho para o arquivo CSV\n",
        "    writer.writeheader()\n",
        "    # Itere sobre os URLs e conteúdo e escreva cada post no arquivo CSV\n",
        "    for post in post_contents:\n",
        "        writer.writerow(post)\n",
        "\n",
        "print(\"Dados exportados para posts.csv\")\n"
      ]
    },
    {
      "cell_type": "code",
      "source": [],
      "metadata": {
        "colab": {
          "base_uri": "https://localhost:8080/"
        },
        "id": "a9-LrAFPw2Jw",
        "outputId": "90a454f7-64c3-460b-8ae5-2d4f8d145aa9"
      },
      "execution_count": null,
      "outputs": [
        {
          "output_type": "execute_result",
          "data": {
            "text/plain": [
              "()"
            ]
          },
          "metadata": {},
          "execution_count": 13
        }
      ]
    }
  ]
}